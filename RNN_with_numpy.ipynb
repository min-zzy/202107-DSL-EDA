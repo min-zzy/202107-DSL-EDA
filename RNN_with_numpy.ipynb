{
  "nbformat": 4,
  "nbformat_minor": 0,
  "metadata": {
    "colab": {
      "name": "RNN_with_numpy.ipynb",
      "provenance": []
    },
    "kernelspec": {
      "name": "python3",
      "display_name": "Python 3"
    },
    "language_info": {
      "name": "python"
    }
  },
  "cells": [
    {
      "cell_type": "code",
      "metadata": {
        "id": "Ufef0cTAUdcg"
      },
      "source": [
        "import numpy as np\n",
        "import matplotlib.pyplot as plt"
      ],
      "execution_count": 6,
      "outputs": []
    },
    {
      "cell_type": "code",
      "metadata": {
        "colab": {
          "base_uri": "https://localhost:8080/"
        },
        "id": "T_-4hdIJ3PdR",
        "outputId": "0b2e4b6f-ae58-4667-b8c6-0e7bb20ca3b1"
      },
      "source": [
        "input_dim = 4\n",
        "hidden_dim = 3\n",
        "output_dim = 4\n",
        "lr = 0.01\n",
        "epoch = 100000\n",
        "\n",
        "x1= np.array([1,0,0,0]).reshape(4,1)\n",
        "x2=np.array([0,1,0,0]).reshape(4,1)\n",
        "x3=np.array([0,0,1,0]).reshape(4,1)\n",
        "y1_true = np.array([0,1,0,0]).reshape(4,1)\n",
        "y2_true = np.array([0,0,1,0]).reshape(4,1)\n",
        "y3_true = np.array([0,0,0,1]).reshape(4,1)\n",
        "\n",
        "print(x1.shape)\n",
        "print(y1_true.shape)"
      ],
      "execution_count": 89,
      "outputs": [
        {
          "output_type": "stream",
          "name": "stdout",
          "text": [
            "(4, 1)\n",
            "(4, 1)\n"
          ]
        }
      ]
    },
    {
      "cell_type": "code",
      "metadata": {
        "id": "QPm8aWKv3WMU"
      },
      "source": [
        "def sigmoid(x):\n",
        "    output =1/(1+np.exp(-x))\n",
        "    return output\n",
        "\n",
        "def sigmoid_output_to_derivative(output):    \n",
        "    return output*(1-output)"
      ],
      "execution_count": 90,
      "outputs": []
    },
    {
      "cell_type": "code",
      "metadata": {
        "id": "kRayDxC67dAx"
      },
      "source": [
        "def softmax(a) :\n",
        "    exp_a = np.exp(a)\n",
        "    sum_exp_a = np.sum(exp_a)\n",
        "    y = exp_a / sum_exp_a\n",
        "    return y"
      ],
      "execution_count": 91,
      "outputs": []
    },
    {
      "cell_type": "code",
      "metadata": {
        "id": "l0y46mO44Pxz"
      },
      "source": [
        "h0 = np.zeros((hidden_dim,1)) \n",
        "h1 = np.zeros((hidden_dim,1)) \n",
        "h2 = np.zeros((hidden_dim,1)) \n",
        "h3 = np.zeros((hidden_dim,1))\n",
        "np.random.seed(123) \n",
        "bh = np.random.random((hidden_dim,1))\n",
        "by = np.random.random((input_dim,1))\n",
        "Wx = np.random.random((hidden_dim,input_dim))\n",
        "Wy = np.random.random((input_dim, hidden_dim))\n",
        "Wh = np.random.random((hidden_dim, hidden_dim))"
      ],
      "execution_count": 92,
      "outputs": []
    },
    {
      "cell_type": "code",
      "metadata": {
        "id": "VZ1VdNG35W2j"
      },
      "source": [
        "for i in range(epoch + 1):\n",
        "  # forward\n",
        "  h1 = np.tanh((Wx @ x1) + (Wh @ h0) + bh)\n",
        "  z1 = Wy @ h1 + by\n",
        "  y1 = softmax(z1)\n",
        "  h2 = np.tanh((Wx @ x2) + (Wh @ h1) + bh)\n",
        "  z2 = Wy @ h2 + by\n",
        "  y2 = softmax(z2)\n",
        "  h3 = np.tanh((Wx @ x3) + (Wh @ h2) + bh)\n",
        "  z3 = Wy @ h3 + by\n",
        "  y3 = softmax(z3)\n",
        "\n",
        "  ## backward\n",
        "  # dL_dWh = np.reshape((y1 - y1_true) @ Wy * sigmoid_output_to_derivative(h1) * h0, (3,3))\n",
        "  dL_dWh = Wy.T @ (y1 - y1_true) * (1 - h1 ** 2) @ h0.T\n",
        "  dL_dWx = Wy.T @ (y1 - y1_true) *  (1 - h1 ** 2) @ x1.T\n",
        "  dL_dWy = np.reshape((y1 - y1_true), (4, 1)) @ h1.T\n",
        "  dL_dbh = Wy.T @ (y1 - y1_true) * (1 - h1 ** 2)\n",
        "  dL_dby = np.reshape((y1 - y1_true), (4,1))\n",
        "\n",
        "  dL_dWh += Wy.T @ (y2 - y2_true) * (1 - h2 ** 2) @ h1.T\n",
        "  dL_dWx += Wy.T @ (y2 - y2_true) *  (1 - h2 ** 2) @ x2.T\n",
        "  dL_dWy += np.reshape((y2 - y2_true), (4, 1)) @ h2.T\n",
        "  dL_dbh += Wy.T @ (y2 - y2_true) * (1 - h2 ** 2)\n",
        "  dL_dby += np.reshape((y2 - y2_true), (4,1))\n",
        "\n",
        "  dL_dWh += Wy.T @ (y3 - y3_true) * (1 - h3 ** 2) @ h2.T\n",
        "  dL_dWx += Wy.T @ (y3 - y3_true) *  (1 - h3 ** 2) @ x3.T\n",
        "  dL_dWy += np.reshape((y3 - y3_true), (4, 1)) @ h3.T\n",
        "  dL_dbh += Wy.T @ (y3 - y3_true) * (1 - h3 ** 2)\n",
        "  dL_dby += np.reshape((y3 - y3_true), (4,1))\n",
        "\n",
        "  Wh -= lr*dL_dWh\n",
        "  Wx -= lr*dL_dWx\n",
        "  Wy -= lr*dL_dWy\n",
        "  bh -= lr*dL_dbh\n",
        "  by -= lr*dL_dby  "
      ],
      "execution_count": 93,
      "outputs": []
    },
    {
      "cell_type": "code",
      "metadata": {
        "colab": {
          "base_uri": "https://localhost:8080/"
        },
        "id": "ZC-MGsM2FqcA",
        "outputId": "f7bf5d5c-c07b-4833-d608-922dc1bc40ef"
      },
      "source": [
        "print(\"Predicted y1: \", np.round(y1,1)) # [0, 1, 0, 0]\n",
        "print(\"Predicted y2: \", np.round(y2, 1)) # [0, 0, 1, 0]\n",
        "print(\"Predicted y3: \", np.round(y3, 1)) # [0, 0, 0, 1]"
      ],
      "execution_count": 94,
      "outputs": [
        {
          "output_type": "stream",
          "name": "stdout",
          "text": [
            "Predicted y1:  [[0.]\n",
            " [1.]\n",
            " [0.]\n",
            " [0.]]\n",
            "Predicted y2:  [[0.]\n",
            " [0.]\n",
            " [1.]\n",
            " [0.]]\n",
            "Predicted y3:  [[0.]\n",
            " [0.]\n",
            " [0.]\n",
            " [1.]]\n"
          ]
        }
      ]
    }
  ]
}